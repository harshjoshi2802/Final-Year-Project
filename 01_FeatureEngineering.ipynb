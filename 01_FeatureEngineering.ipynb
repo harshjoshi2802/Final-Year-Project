{
  "cells": [
    {
      "cell_type": "markdown",
      "id": "9c75ebda",
      "metadata": {
        "id": "9c75ebda"
      },
      "source": [
        "# Market Basket Analysis on Online Retail Data\n",
        "\n",
        "## Feature Engineering\n",
        "\n"
      ]
    },
    {
      "cell_type": "markdown",
      "id": "7f56cc2b",
      "metadata": {
        "id": "7f56cc2b"
      },
      "source": [
        "### 2. Data Loading and Importing Libraries\n"
      ]
    },
    {
      "cell_type": "code",
      "execution_count": null,
      "id": "37deced0",
      "metadata": {
        "id": "37deced0"
      },
      "outputs": [],
      "source": [
        "# Importing libraries\n",
        "import pandas as pd\n",
        "import numpy as np\n",
        "import matplotlib.pyplot as plt\n",
        "import seaborn as sns\n",
        "import calendar\n",
        "import datetime as dt\n",
        "\n",
        "# Runtime Configuration Parameters for Matplotlib\n",
        "plt.rcParams['font.family'] = 'serif'\n",
        "plt.style.use('ggplot')\n",
        "\n",
        "import warnings\n",
        "warnings.filterwarnings(\"ignore\", category=FutureWarning)"
      ]
    },
    {
      "cell_type": "code",
      "execution_count": null,
      "id": "8a16aa86",
      "metadata": {
        "colab": {
          "base_uri": "https://localhost:8080/",
          "height": 206
        },
        "id": "8a16aa86",
        "outputId": "f0e7c265-5f41-4488-ce69-cc4cceadaf49"
      },
      "outputs": [
        {
          "output_type": "execute_result",
          "data": {
            "text/plain": [
              "  InvoiceNo StockCode                          Description  Quantity  \\\n",
              "0    536365    85123A   WHITE HANGING HEART T-LIGHT HOLDER         6   \n",
              "1    536365     71053                  WHITE METAL LANTERN         6   \n",
              "2    536365    84406B       CREAM CUPID HEARTS COAT HANGER         8   \n",
              "3    536365    84029G  KNITTED UNION FLAG HOT WATER BOTTLE         6   \n",
              "4    536365    84029E       RED WOOLLY HOTTIE WHITE HEART.         6   \n",
              "\n",
              "      InvoiceDate  UnitPrice  CustomerID         Country  \n",
              "0  12/1/2010 8:26       2.55     17850.0  United Kingdom  \n",
              "1  12/1/2010 8:26       3.39     17850.0  United Kingdom  \n",
              "2  12/1/2010 8:26       2.75     17850.0  United Kingdom  \n",
              "3  12/1/2010 8:26       3.39     17850.0  United Kingdom  \n",
              "4  12/1/2010 8:26       3.39     17850.0  United Kingdom  "
            ],
            "text/html": [
              "\n",
              "  <div id=\"df-992af1c7-cf73-4ac8-9a8c-06864e4642f1\" class=\"colab-df-container\">\n",
              "    <div>\n",
              "<style scoped>\n",
              "    .dataframe tbody tr th:only-of-type {\n",
              "        vertical-align: middle;\n",
              "    }\n",
              "\n",
              "    .dataframe tbody tr th {\n",
              "        vertical-align: top;\n",
              "    }\n",
              "\n",
              "    .dataframe thead th {\n",
              "        text-align: right;\n",
              "    }\n",
              "</style>\n",
              "<table border=\"1\" class=\"dataframe\">\n",
              "  <thead>\n",
              "    <tr style=\"text-align: right;\">\n",
              "      <th></th>\n",
              "      <th>InvoiceNo</th>\n",
              "      <th>StockCode</th>\n",
              "      <th>Description</th>\n",
              "      <th>Quantity</th>\n",
              "      <th>InvoiceDate</th>\n",
              "      <th>UnitPrice</th>\n",
              "      <th>CustomerID</th>\n",
              "      <th>Country</th>\n",
              "    </tr>\n",
              "  </thead>\n",
              "  <tbody>\n",
              "    <tr>\n",
              "      <th>0</th>\n",
              "      <td>536365</td>\n",
              "      <td>85123A</td>\n",
              "      <td>WHITE HANGING HEART T-LIGHT HOLDER</td>\n",
              "      <td>6</td>\n",
              "      <td>12/1/2010 8:26</td>\n",
              "      <td>2.55</td>\n",
              "      <td>17850.0</td>\n",
              "      <td>United Kingdom</td>\n",
              "    </tr>\n",
              "    <tr>\n",
              "      <th>1</th>\n",
              "      <td>536365</td>\n",
              "      <td>71053</td>\n",
              "      <td>WHITE METAL LANTERN</td>\n",
              "      <td>6</td>\n",
              "      <td>12/1/2010 8:26</td>\n",
              "      <td>3.39</td>\n",
              "      <td>17850.0</td>\n",
              "      <td>United Kingdom</td>\n",
              "    </tr>\n",
              "    <tr>\n",
              "      <th>2</th>\n",
              "      <td>536365</td>\n",
              "      <td>84406B</td>\n",
              "      <td>CREAM CUPID HEARTS COAT HANGER</td>\n",
              "      <td>8</td>\n",
              "      <td>12/1/2010 8:26</td>\n",
              "      <td>2.75</td>\n",
              "      <td>17850.0</td>\n",
              "      <td>United Kingdom</td>\n",
              "    </tr>\n",
              "    <tr>\n",
              "      <th>3</th>\n",
              "      <td>536365</td>\n",
              "      <td>84029G</td>\n",
              "      <td>KNITTED UNION FLAG HOT WATER BOTTLE</td>\n",
              "      <td>6</td>\n",
              "      <td>12/1/2010 8:26</td>\n",
              "      <td>3.39</td>\n",
              "      <td>17850.0</td>\n",
              "      <td>United Kingdom</td>\n",
              "    </tr>\n",
              "    <tr>\n",
              "      <th>4</th>\n",
              "      <td>536365</td>\n",
              "      <td>84029E</td>\n",
              "      <td>RED WOOLLY HOTTIE WHITE HEART.</td>\n",
              "      <td>6</td>\n",
              "      <td>12/1/2010 8:26</td>\n",
              "      <td>3.39</td>\n",
              "      <td>17850.0</td>\n",
              "      <td>United Kingdom</td>\n",
              "    </tr>\n",
              "  </tbody>\n",
              "</table>\n",
              "</div>\n",
              "    <div class=\"colab-df-buttons\">\n",
              "\n",
              "  <div class=\"colab-df-container\">\n",
              "    <button class=\"colab-df-convert\" onclick=\"convertToInteractive('df-992af1c7-cf73-4ac8-9a8c-06864e4642f1')\"\n",
              "            title=\"Convert this dataframe to an interactive table.\"\n",
              "            style=\"display:none;\">\n",
              "\n",
              "  <svg xmlns=\"http://www.w3.org/2000/svg\" height=\"24px\" viewBox=\"0 -960 960 960\">\n",
              "    <path d=\"M120-120v-720h720v720H120Zm60-500h600v-160H180v160Zm220 220h160v-160H400v160Zm0 220h160v-160H400v160ZM180-400h160v-160H180v160Zm440 0h160v-160H620v160ZM180-180h160v-160H180v160Zm440 0h160v-160H620v160Z\"/>\n",
              "  </svg>\n",
              "    </button>\n",
              "\n",
              "  <style>\n",
              "    .colab-df-container {\n",
              "      display:flex;\n",
              "      gap: 12px;\n",
              "    }\n",
              "\n",
              "    .colab-df-convert {\n",
              "      background-color: #E8F0FE;\n",
              "      border: none;\n",
              "      border-radius: 50%;\n",
              "      cursor: pointer;\n",
              "      display: none;\n",
              "      fill: #1967D2;\n",
              "      height: 32px;\n",
              "      padding: 0 0 0 0;\n",
              "      width: 32px;\n",
              "    }\n",
              "\n",
              "    .colab-df-convert:hover {\n",
              "      background-color: #E2EBFA;\n",
              "      box-shadow: 0px 1px 2px rgba(60, 64, 67, 0.3), 0px 1px 3px 1px rgba(60, 64, 67, 0.15);\n",
              "      fill: #174EA6;\n",
              "    }\n",
              "\n",
              "    .colab-df-buttons div {\n",
              "      margin-bottom: 4px;\n",
              "    }\n",
              "\n",
              "    [theme=dark] .colab-df-convert {\n",
              "      background-color: #3B4455;\n",
              "      fill: #D2E3FC;\n",
              "    }\n",
              "\n",
              "    [theme=dark] .colab-df-convert:hover {\n",
              "      background-color: #434B5C;\n",
              "      box-shadow: 0px 1px 3px 1px rgba(0, 0, 0, 0.15);\n",
              "      filter: drop-shadow(0px 1px 2px rgba(0, 0, 0, 0.3));\n",
              "      fill: #FFFFFF;\n",
              "    }\n",
              "  </style>\n",
              "\n",
              "    <script>\n",
              "      const buttonEl =\n",
              "        document.querySelector('#df-992af1c7-cf73-4ac8-9a8c-06864e4642f1 button.colab-df-convert');\n",
              "      buttonEl.style.display =\n",
              "        google.colab.kernel.accessAllowed ? 'block' : 'none';\n",
              "\n",
              "      async function convertToInteractive(key) {\n",
              "        const element = document.querySelector('#df-992af1c7-cf73-4ac8-9a8c-06864e4642f1');\n",
              "        const dataTable =\n",
              "          await google.colab.kernel.invokeFunction('convertToInteractive',\n",
              "                                                    [key], {});\n",
              "        if (!dataTable) return;\n",
              "\n",
              "        const docLinkHtml = 'Like what you see? Visit the ' +\n",
              "          '<a target=\"_blank\" href=https://colab.research.google.com/notebooks/data_table.ipynb>data table notebook</a>'\n",
              "          + ' to learn more about interactive tables.';\n",
              "        element.innerHTML = '';\n",
              "        dataTable['output_type'] = 'display_data';\n",
              "        await google.colab.output.renderOutput(dataTable, element);\n",
              "        const docLink = document.createElement('div');\n",
              "        docLink.innerHTML = docLinkHtml;\n",
              "        element.appendChild(docLink);\n",
              "      }\n",
              "    </script>\n",
              "  </div>\n",
              "\n",
              "\n",
              "<div id=\"df-27c835c0-2618-4aa7-affe-45c8874452aa\">\n",
              "  <button class=\"colab-df-quickchart\" onclick=\"quickchart('df-27c835c0-2618-4aa7-affe-45c8874452aa')\"\n",
              "            title=\"Suggest charts\"\n",
              "            style=\"display:none;\">\n",
              "\n",
              "<svg xmlns=\"http://www.w3.org/2000/svg\" height=\"24px\"viewBox=\"0 0 24 24\"\n",
              "     width=\"24px\">\n",
              "    <g>\n",
              "        <path d=\"M19 3H5c-1.1 0-2 .9-2 2v14c0 1.1.9 2 2 2h14c1.1 0 2-.9 2-2V5c0-1.1-.9-2-2-2zM9 17H7v-7h2v7zm4 0h-2V7h2v10zm4 0h-2v-4h2v4z\"/>\n",
              "    </g>\n",
              "</svg>\n",
              "  </button>\n",
              "\n",
              "<style>\n",
              "  .colab-df-quickchart {\n",
              "      --bg-color: #E8F0FE;\n",
              "      --fill-color: #1967D2;\n",
              "      --hover-bg-color: #E2EBFA;\n",
              "      --hover-fill-color: #174EA6;\n",
              "      --disabled-fill-color: #AAA;\n",
              "      --disabled-bg-color: #DDD;\n",
              "  }\n",
              "\n",
              "  [theme=dark] .colab-df-quickchart {\n",
              "      --bg-color: #3B4455;\n",
              "      --fill-color: #D2E3FC;\n",
              "      --hover-bg-color: #434B5C;\n",
              "      --hover-fill-color: #FFFFFF;\n",
              "      --disabled-bg-color: #3B4455;\n",
              "      --disabled-fill-color: #666;\n",
              "  }\n",
              "\n",
              "  .colab-df-quickchart {\n",
              "    background-color: var(--bg-color);\n",
              "    border: none;\n",
              "    border-radius: 50%;\n",
              "    cursor: pointer;\n",
              "    display: none;\n",
              "    fill: var(--fill-color);\n",
              "    height: 32px;\n",
              "    padding: 0;\n",
              "    width: 32px;\n",
              "  }\n",
              "\n",
              "  .colab-df-quickchart:hover {\n",
              "    background-color: var(--hover-bg-color);\n",
              "    box-shadow: 0 1px 2px rgba(60, 64, 67, 0.3), 0 1px 3px 1px rgba(60, 64, 67, 0.15);\n",
              "    fill: var(--button-hover-fill-color);\n",
              "  }\n",
              "\n",
              "  .colab-df-quickchart-complete:disabled,\n",
              "  .colab-df-quickchart-complete:disabled:hover {\n",
              "    background-color: var(--disabled-bg-color);\n",
              "    fill: var(--disabled-fill-color);\n",
              "    box-shadow: none;\n",
              "  }\n",
              "\n",
              "  .colab-df-spinner {\n",
              "    border: 2px solid var(--fill-color);\n",
              "    border-color: transparent;\n",
              "    border-bottom-color: var(--fill-color);\n",
              "    animation:\n",
              "      spin 1s steps(1) infinite;\n",
              "  }\n",
              "\n",
              "  @keyframes spin {\n",
              "    0% {\n",
              "      border-color: transparent;\n",
              "      border-bottom-color: var(--fill-color);\n",
              "      border-left-color: var(--fill-color);\n",
              "    }\n",
              "    20% {\n",
              "      border-color: transparent;\n",
              "      border-left-color: var(--fill-color);\n",
              "      border-top-color: var(--fill-color);\n",
              "    }\n",
              "    30% {\n",
              "      border-color: transparent;\n",
              "      border-left-color: var(--fill-color);\n",
              "      border-top-color: var(--fill-color);\n",
              "      border-right-color: var(--fill-color);\n",
              "    }\n",
              "    40% {\n",
              "      border-color: transparent;\n",
              "      border-right-color: var(--fill-color);\n",
              "      border-top-color: var(--fill-color);\n",
              "    }\n",
              "    60% {\n",
              "      border-color: transparent;\n",
              "      border-right-color: var(--fill-color);\n",
              "    }\n",
              "    80% {\n",
              "      border-color: transparent;\n",
              "      border-right-color: var(--fill-color);\n",
              "      border-bottom-color: var(--fill-color);\n",
              "    }\n",
              "    90% {\n",
              "      border-color: transparent;\n",
              "      border-bottom-color: var(--fill-color);\n",
              "    }\n",
              "  }\n",
              "</style>\n",
              "\n",
              "  <script>\n",
              "    async function quickchart(key) {\n",
              "      const quickchartButtonEl =\n",
              "        document.querySelector('#' + key + ' button');\n",
              "      quickchartButtonEl.disabled = true;  // To prevent multiple clicks.\n",
              "      quickchartButtonEl.classList.add('colab-df-spinner');\n",
              "      try {\n",
              "        const charts = await google.colab.kernel.invokeFunction(\n",
              "            'suggestCharts', [key], {});\n",
              "      } catch (error) {\n",
              "        console.error('Error during call to suggestCharts:', error);\n",
              "      }\n",
              "      quickchartButtonEl.classList.remove('colab-df-spinner');\n",
              "      quickchartButtonEl.classList.add('colab-df-quickchart-complete');\n",
              "    }\n",
              "    (() => {\n",
              "      let quickchartButtonEl =\n",
              "        document.querySelector('#df-27c835c0-2618-4aa7-affe-45c8874452aa button');\n",
              "      quickchartButtonEl.style.display =\n",
              "        google.colab.kernel.accessAllowed ? 'block' : 'none';\n",
              "    })();\n",
              "  </script>\n",
              "</div>\n",
              "\n",
              "    </div>\n",
              "  </div>\n"
            ],
            "application/vnd.google.colaboratory.intrinsic+json": {
              "type": "dataframe",
              "variable_name": "retail"
            }
          },
          "metadata": {},
          "execution_count": 4
        }
      ],
      "source": [
        "# Read data\n",
        "retail = pd.read_csv('OnlineRetail.csv')\n",
        "retail.head()"
      ]
    },
    {
      "cell_type": "code",
      "execution_count": null,
      "id": "86e0b081",
      "metadata": {
        "colab": {
          "base_uri": "https://localhost:8080/"
        },
        "id": "86e0b081",
        "outputId": "a9db0631-434f-47f0-8bfd-5b8c678e00b8"
      },
      "outputs": [
        {
          "output_type": "stream",
          "name": "stdout",
          "text": [
            "<class 'pandas.core.frame.DataFrame'>\n",
            "RangeIndex: 541909 entries, 0 to 541908\n",
            "Data columns (total 8 columns):\n",
            " #   Column       Non-Null Count   Dtype  \n",
            "---  ------       --------------   -----  \n",
            " 0   InvoiceNo    541909 non-null  object \n",
            " 1   StockCode    541909 non-null  object \n",
            " 2   Description  540455 non-null  object \n",
            " 3   Quantity     541909 non-null  int64  \n",
            " 4   InvoiceDate  541909 non-null  object \n",
            " 5   UnitPrice    541909 non-null  float64\n",
            " 6   CustomerID   406829 non-null  float64\n",
            " 7   Country      541909 non-null  object \n",
            "dtypes: float64(2), int64(1), object(5)\n",
            "memory usage: 33.1+ MB\n"
          ]
        }
      ],
      "source": [
        "retail.info()"
      ]
    },
    {
      "cell_type": "markdown",
      "id": "858f0354",
      "metadata": {
        "id": "858f0354"
      },
      "source": [
        "### 2.1 About the data\n",
        "**1. InvoiceNo:** Invoice number. Nominal, a 6-digit integral number uniquely assigned to each transaction. If this code starts with letter 'c', it indicates a cancellation.\n",
        "\n",
        "**2. StockCode:** Product (item) code. Nominal, a 5-digit integral number uniquely assigned to each distinct product.\n",
        "\n",
        "**3. Description:** Product (item) name. Nominal.\n",
        "\n",
        "**4. Quantity:** The quantities of each product (item) per transaction. Numeric.\n",
        "\n",
        "**5. InvoiceDate:** Invice Date and time. Numeric, the day and time when each transaction was generated.\n",
        "\n",
        "**6. UnitPrice:** Unit price. Numeric, Product price per unit in sterling.\n",
        "\n",
        "**7. CustomerID:** Customer number. Nominal, a 5-digit integral number uniquely assigned to each customer.\n",
        "\n",
        "**8. Country:** Country name. Nominal, the name of the country where each customer resides."
      ]
    },
    {
      "cell_type": "code",
      "execution_count": null,
      "id": "3cea8751",
      "metadata": {
        "colab": {
          "base_uri": "https://localhost:8080/"
        },
        "id": "3cea8751",
        "outputId": "4c7903ad-5de3-4c0c-ee82-ae82e2a3eb79"
      },
      "outputs": [
        {
          "output_type": "stream",
          "name": "stdout",
          "text": [
            "Number of observations in the dataset:  541909\n",
            "Number of columns:  8\n"
          ]
        }
      ],
      "source": [
        "print('Number of observations in the dataset: ', retail.shape[0])\n",
        "print('Number of columns: ', retail.shape[1])"
      ]
    },
    {
      "cell_type": "markdown",
      "id": "1895309d",
      "metadata": {
        "id": "1895309d"
      },
      "source": [
        "#### 2.1.1 Missing values"
      ]
    },
    {
      "cell_type": "code",
      "execution_count": null,
      "id": "7f49dafd",
      "metadata": {
        "colab": {
          "base_uri": "https://localhost:8080/",
          "height": 300
        },
        "id": "7f49dafd",
        "outputId": "8034d7cc-b58b-4437-8114-1de611f3db5a"
      },
      "outputs": [
        {
          "output_type": "execute_result",
          "data": {
            "text/plain": [
              "             Total missing values  Percentage missing values\n",
              "InvoiceNo                       0                   0.000000\n",
              "StockCode                       0                   0.000000\n",
              "Description                  1454                   0.002690\n",
              "Quantity                        0                   0.000000\n",
              "InvoiceDate                     0                   0.000000\n",
              "UnitPrice                       0                   0.000000\n",
              "CustomerID                 135080                   0.332031\n",
              "Country                         0                   0.000000"
            ],
            "text/html": [
              "\n",
              "  <div id=\"df-2caa6621-edf5-4ba5-9121-d742e2a739f5\" class=\"colab-df-container\">\n",
              "    <div>\n",
              "<style scoped>\n",
              "    .dataframe tbody tr th:only-of-type {\n",
              "        vertical-align: middle;\n",
              "    }\n",
              "\n",
              "    .dataframe tbody tr th {\n",
              "        vertical-align: top;\n",
              "    }\n",
              "\n",
              "    .dataframe thead th {\n",
              "        text-align: right;\n",
              "    }\n",
              "</style>\n",
              "<table border=\"1\" class=\"dataframe\">\n",
              "  <thead>\n",
              "    <tr style=\"text-align: right;\">\n",
              "      <th></th>\n",
              "      <th>Total missing values</th>\n",
              "      <th>Percentage missing values</th>\n",
              "    </tr>\n",
              "  </thead>\n",
              "  <tbody>\n",
              "    <tr>\n",
              "      <th>InvoiceNo</th>\n",
              "      <td>0</td>\n",
              "      <td>0.000000</td>\n",
              "    </tr>\n",
              "    <tr>\n",
              "      <th>StockCode</th>\n",
              "      <td>0</td>\n",
              "      <td>0.000000</td>\n",
              "    </tr>\n",
              "    <tr>\n",
              "      <th>Description</th>\n",
              "      <td>1454</td>\n",
              "      <td>0.002690</td>\n",
              "    </tr>\n",
              "    <tr>\n",
              "      <th>Quantity</th>\n",
              "      <td>0</td>\n",
              "      <td>0.000000</td>\n",
              "    </tr>\n",
              "    <tr>\n",
              "      <th>InvoiceDate</th>\n",
              "      <td>0</td>\n",
              "      <td>0.000000</td>\n",
              "    </tr>\n",
              "    <tr>\n",
              "      <th>UnitPrice</th>\n",
              "      <td>0</td>\n",
              "      <td>0.000000</td>\n",
              "    </tr>\n",
              "    <tr>\n",
              "      <th>CustomerID</th>\n",
              "      <td>135080</td>\n",
              "      <td>0.332031</td>\n",
              "    </tr>\n",
              "    <tr>\n",
              "      <th>Country</th>\n",
              "      <td>0</td>\n",
              "      <td>0.000000</td>\n",
              "    </tr>\n",
              "  </tbody>\n",
              "</table>\n",
              "</div>\n",
              "    <div class=\"colab-df-buttons\">\n",
              "\n",
              "  <div class=\"colab-df-container\">\n",
              "    <button class=\"colab-df-convert\" onclick=\"convertToInteractive('df-2caa6621-edf5-4ba5-9121-d742e2a739f5')\"\n",
              "            title=\"Convert this dataframe to an interactive table.\"\n",
              "            style=\"display:none;\">\n",
              "\n",
              "  <svg xmlns=\"http://www.w3.org/2000/svg\" height=\"24px\" viewBox=\"0 -960 960 960\">\n",
              "    <path d=\"M120-120v-720h720v720H120Zm60-500h600v-160H180v160Zm220 220h160v-160H400v160Zm0 220h160v-160H400v160ZM180-400h160v-160H180v160Zm440 0h160v-160H620v160ZM180-180h160v-160H180v160Zm440 0h160v-160H620v160Z\"/>\n",
              "  </svg>\n",
              "    </button>\n",
              "\n",
              "  <style>\n",
              "    .colab-df-container {\n",
              "      display:flex;\n",
              "      gap: 12px;\n",
              "    }\n",
              "\n",
              "    .colab-df-convert {\n",
              "      background-color: #E8F0FE;\n",
              "      border: none;\n",
              "      border-radius: 50%;\n",
              "      cursor: pointer;\n",
              "      display: none;\n",
              "      fill: #1967D2;\n",
              "      height: 32px;\n",
              "      padding: 0 0 0 0;\n",
              "      width: 32px;\n",
              "    }\n",
              "\n",
              "    .colab-df-convert:hover {\n",
              "      background-color: #E2EBFA;\n",
              "      box-shadow: 0px 1px 2px rgba(60, 64, 67, 0.3), 0px 1px 3px 1px rgba(60, 64, 67, 0.15);\n",
              "      fill: #174EA6;\n",
              "    }\n",
              "\n",
              "    .colab-df-buttons div {\n",
              "      margin-bottom: 4px;\n",
              "    }\n",
              "\n",
              "    [theme=dark] .colab-df-convert {\n",
              "      background-color: #3B4455;\n",
              "      fill: #D2E3FC;\n",
              "    }\n",
              "\n",
              "    [theme=dark] .colab-df-convert:hover {\n",
              "      background-color: #434B5C;\n",
              "      box-shadow: 0px 1px 3px 1px rgba(0, 0, 0, 0.15);\n",
              "      filter: drop-shadow(0px 1px 2px rgba(0, 0, 0, 0.3));\n",
              "      fill: #FFFFFF;\n",
              "    }\n",
              "  </style>\n",
              "\n",
              "    <script>\n",
              "      const buttonEl =\n",
              "        document.querySelector('#df-2caa6621-edf5-4ba5-9121-d742e2a739f5 button.colab-df-convert');\n",
              "      buttonEl.style.display =\n",
              "        google.colab.kernel.accessAllowed ? 'block' : 'none';\n",
              "\n",
              "      async function convertToInteractive(key) {\n",
              "        const element = document.querySelector('#df-2caa6621-edf5-4ba5-9121-d742e2a739f5');\n",
              "        const dataTable =\n",
              "          await google.colab.kernel.invokeFunction('convertToInteractive',\n",
              "                                                    [key], {});\n",
              "        if (!dataTable) return;\n",
              "\n",
              "        const docLinkHtml = 'Like what you see? Visit the ' +\n",
              "          '<a target=\"_blank\" href=https://colab.research.google.com/notebooks/data_table.ipynb>data table notebook</a>'\n",
              "          + ' to learn more about interactive tables.';\n",
              "        element.innerHTML = '';\n",
              "        dataTable['output_type'] = 'display_data';\n",
              "        await google.colab.output.renderOutput(dataTable, element);\n",
              "        const docLink = document.createElement('div');\n",
              "        docLink.innerHTML = docLinkHtml;\n",
              "        element.appendChild(docLink);\n",
              "      }\n",
              "    </script>\n",
              "  </div>\n",
              "\n",
              "\n",
              "<div id=\"df-dd0a6a80-bd83-4af9-a059-575623258fc2\">\n",
              "  <button class=\"colab-df-quickchart\" onclick=\"quickchart('df-dd0a6a80-bd83-4af9-a059-575623258fc2')\"\n",
              "            title=\"Suggest charts\"\n",
              "            style=\"display:none;\">\n",
              "\n",
              "<svg xmlns=\"http://www.w3.org/2000/svg\" height=\"24px\"viewBox=\"0 0 24 24\"\n",
              "     width=\"24px\">\n",
              "    <g>\n",
              "        <path d=\"M19 3H5c-1.1 0-2 .9-2 2v14c0 1.1.9 2 2 2h14c1.1 0 2-.9 2-2V5c0-1.1-.9-2-2-2zM9 17H7v-7h2v7zm4 0h-2V7h2v10zm4 0h-2v-4h2v4z\"/>\n",
              "    </g>\n",
              "</svg>\n",
              "  </button>\n",
              "\n",
              "<style>\n",
              "  .colab-df-quickchart {\n",
              "      --bg-color: #E8F0FE;\n",
              "      --fill-color: #1967D2;\n",
              "      --hover-bg-color: #E2EBFA;\n",
              "      --hover-fill-color: #174EA6;\n",
              "      --disabled-fill-color: #AAA;\n",
              "      --disabled-bg-color: #DDD;\n",
              "  }\n",
              "\n",
              "  [theme=dark] .colab-df-quickchart {\n",
              "      --bg-color: #3B4455;\n",
              "      --fill-color: #D2E3FC;\n",
              "      --hover-bg-color: #434B5C;\n",
              "      --hover-fill-color: #FFFFFF;\n",
              "      --disabled-bg-color: #3B4455;\n",
              "      --disabled-fill-color: #666;\n",
              "  }\n",
              "\n",
              "  .colab-df-quickchart {\n",
              "    background-color: var(--bg-color);\n",
              "    border: none;\n",
              "    border-radius: 50%;\n",
              "    cursor: pointer;\n",
              "    display: none;\n",
              "    fill: var(--fill-color);\n",
              "    height: 32px;\n",
              "    padding: 0;\n",
              "    width: 32px;\n",
              "  }\n",
              "\n",
              "  .colab-df-quickchart:hover {\n",
              "    background-color: var(--hover-bg-color);\n",
              "    box-shadow: 0 1px 2px rgba(60, 64, 67, 0.3), 0 1px 3px 1px rgba(60, 64, 67, 0.15);\n",
              "    fill: var(--button-hover-fill-color);\n",
              "  }\n",
              "\n",
              "  .colab-df-quickchart-complete:disabled,\n",
              "  .colab-df-quickchart-complete:disabled:hover {\n",
              "    background-color: var(--disabled-bg-color);\n",
              "    fill: var(--disabled-fill-color);\n",
              "    box-shadow: none;\n",
              "  }\n",
              "\n",
              "  .colab-df-spinner {\n",
              "    border: 2px solid var(--fill-color);\n",
              "    border-color: transparent;\n",
              "    border-bottom-color: var(--fill-color);\n",
              "    animation:\n",
              "      spin 1s steps(1) infinite;\n",
              "  }\n",
              "\n",
              "  @keyframes spin {\n",
              "    0% {\n",
              "      border-color: transparent;\n",
              "      border-bottom-color: var(--fill-color);\n",
              "      border-left-color: var(--fill-color);\n",
              "    }\n",
              "    20% {\n",
              "      border-color: transparent;\n",
              "      border-left-color: var(--fill-color);\n",
              "      border-top-color: var(--fill-color);\n",
              "    }\n",
              "    30% {\n",
              "      border-color: transparent;\n",
              "      border-left-color: var(--fill-color);\n",
              "      border-top-color: var(--fill-color);\n",
              "      border-right-color: var(--fill-color);\n",
              "    }\n",
              "    40% {\n",
              "      border-color: transparent;\n",
              "      border-right-color: var(--fill-color);\n",
              "      border-top-color: var(--fill-color);\n",
              "    }\n",
              "    60% {\n",
              "      border-color: transparent;\n",
              "      border-right-color: var(--fill-color);\n",
              "    }\n",
              "    80% {\n",
              "      border-color: transparent;\n",
              "      border-right-color: var(--fill-color);\n",
              "      border-bottom-color: var(--fill-color);\n",
              "    }\n",
              "    90% {\n",
              "      border-color: transparent;\n",
              "      border-bottom-color: var(--fill-color);\n",
              "    }\n",
              "  }\n",
              "</style>\n",
              "\n",
              "  <script>\n",
              "    async function quickchart(key) {\n",
              "      const quickchartButtonEl =\n",
              "        document.querySelector('#' + key + ' button');\n",
              "      quickchartButtonEl.disabled = true;  // To prevent multiple clicks.\n",
              "      quickchartButtonEl.classList.add('colab-df-spinner');\n",
              "      try {\n",
              "        const charts = await google.colab.kernel.invokeFunction(\n",
              "            'suggestCharts', [key], {});\n",
              "      } catch (error) {\n",
              "        console.error('Error during call to suggestCharts:', error);\n",
              "      }\n",
              "      quickchartButtonEl.classList.remove('colab-df-spinner');\n",
              "      quickchartButtonEl.classList.add('colab-df-quickchart-complete');\n",
              "    }\n",
              "    (() => {\n",
              "      let quickchartButtonEl =\n",
              "        document.querySelector('#df-dd0a6a80-bd83-4af9-a059-575623258fc2 button');\n",
              "      quickchartButtonEl.style.display =\n",
              "        google.colab.kernel.accessAllowed ? 'block' : 'none';\n",
              "    })();\n",
              "  </script>\n",
              "</div>\n",
              "\n",
              "    </div>\n",
              "  </div>\n"
            ],
            "application/vnd.google.colaboratory.intrinsic+json": {
              "type": "dataframe",
              "summary": "{\n  \"name\": \"missing_values(retail)\",\n  \"rows\": 8,\n  \"fields\": [\n    {\n      \"column\": \"Total missing values\",\n      \"properties\": {\n        \"dtype\": \"number\",\n        \"std\": 47687,\n        \"min\": 0,\n        \"max\": 135080,\n        \"num_unique_values\": 3,\n        \"samples\": [\n          0,\n          1454,\n          135080\n        ],\n        \"semantic_type\": \"\",\n        \"description\": \"\"\n      }\n    },\n    {\n      \"column\": \"Percentage missing values\",\n      \"properties\": {\n        \"dtype\": \"number\",\n        \"std\": 0.11725872234412742,\n        \"min\": 0.0,\n        \"max\": 0.33203139402549964,\n        \"num_unique_values\": 3,\n        \"samples\": [\n          0.0,\n          0.002690325744048996,\n          0.33203139402549964\n        ],\n        \"semantic_type\": \"\",\n        \"description\": \"\"\n      }\n    }\n  ]\n}"
            }
          },
          "metadata": {},
          "execution_count": 7
        }
      ],
      "source": [
        "def missing_values(df):\n",
        "    total_null = df.isna().sum()\n",
        "    percent_null = df.isna().sum() / df.count()\n",
        "    missing_data = pd.concat([total_null, percent_null], axis = 1, keys = ['Total missing values', 'Percentage missing values'])\n",
        "    return missing_data\n",
        "\n",
        "# Check\n",
        "missing_values(retail)"
      ]
    },
    {
      "cell_type": "markdown",
      "id": "d26d85bd",
      "metadata": {
        "id": "d26d85bd"
      },
      "source": [
        "### 3. Feature Engineering"
      ]
    },
    {
      "cell_type": "markdown",
      "id": "bfc25ecc",
      "metadata": {
        "id": "bfc25ecc"
      },
      "source": [
        "#### 3.1 Parsing date"
      ]
    },
    {
      "cell_type": "code",
      "execution_count": null,
      "id": "06732f89",
      "metadata": {
        "id": "06732f89"
      },
      "outputs": [],
      "source": [
        "retail['InvoiceDate'] = pd.to_datetime(retail['InvoiceDate'])"
      ]
    },
    {
      "cell_type": "markdown",
      "id": "e8d47a17",
      "metadata": {
        "id": "e8d47a17"
      },
      "source": [
        "#### 3.2 Data Cleaning"
      ]
    },
    {
      "cell_type": "markdown",
      "id": "aab933ca",
      "metadata": {
        "id": "aab933ca"
      },
      "source": [
        "##### 3.2.1 CustomerID"
      ]
    },
    {
      "cell_type": "code",
      "execution_count": null,
      "id": "dfcc0d9f",
      "metadata": {
        "id": "dfcc0d9f"
      },
      "outputs": [],
      "source": [
        "# Fill NA with 0\n",
        "retail['CustomerID'] = retail['CustomerID'].fillna(0)\n",
        "# Float to Int\n",
        "retail['CustomerID'] = retail['CustomerID'].astype(int)\n",
        "# Int to Str\n",
        "retail['CustomerID'] = retail['CustomerID'].astype(str)\n",
        "# Replace customers with customer_id 0 to \"Guest Customer\"\n",
        "retail['CustomerID'] = retail['CustomerID'].replace('0', 'Guest Customer')"
      ]
    },
    {
      "cell_type": "code",
      "execution_count": null,
      "id": "a43429f7",
      "metadata": {
        "colab": {
          "base_uri": "https://localhost:8080/"
        },
        "id": "a43429f7",
        "outputId": "ce5c8f94-8e9a-4a81-a7e2-39dba3e6ff25"
      },
      "outputs": [
        {
          "output_type": "execute_result",
          "data": {
            "text/plain": [
              "CustomerID\n",
              "Guest Customer    135080\n",
              "17841               7983\n",
              "14911               5903\n",
              "14096               5128\n",
              "12748               4642\n",
              "                   ...  \n",
              "13270                  1\n",
              "17763                  1\n",
              "17291                  1\n",
              "15668                  1\n",
              "15562                  1\n",
              "Name: count, Length: 4373, dtype: int64"
            ]
          },
          "metadata": {},
          "execution_count": 10
        }
      ],
      "source": [
        "retail['CustomerID'].value_counts()"
      ]
    },
    {
      "cell_type": "markdown",
      "id": "579668e8",
      "metadata": {
        "id": "579668e8"
      },
      "source": [
        "##### 3.2.2 InvoiceID"
      ]
    },
    {
      "cell_type": "code",
      "execution_count": null,
      "id": "65878d6c",
      "metadata": {
        "id": "65878d6c"
      },
      "outputs": [],
      "source": [
        "# Date\n",
        "retail['Date'] = retail['InvoiceDate'].dt.date\n",
        "# Time\n",
        "retail['Time'] = retail['InvoiceDate'].dt.time\n",
        "# Hour\n",
        "retail[\"Hour\"] = retail['InvoiceDate'].dt.strftime('%H')\n",
        "# Hour to Time of Day\n",
        "retail['Time of Day'] = pd.cut(retail['InvoiceDate'].dt.hour, [0,6,12,18,23], labels = ['Night','Morning','Afternoon','Evening'], include_lowest=True)\n",
        "# Month\n",
        "retail['Month'] = retail['InvoiceDate'].dt.month\n",
        "retail['Month'] = retail['Month'].apply(lambda x: calendar.month_name[int(x)])\n",
        "# Year\n",
        "retail['Year'] = retail['InvoiceDate'].dt.year\n",
        "# Week of the Year\n",
        "retail['Week of the Year'] = retail['InvoiceDate'].dt.isocalendar().week\n",
        "# Day of Week\n",
        "retail['Day of Week'] = retail['InvoiceDate'].dt.day_name()\n",
        "# Drop NAs\n",
        "retail['InvoiceNo'] = retail['InvoiceNo'].dropna()"
      ]
    },
    {
      "cell_type": "markdown",
      "id": "82faa9b5",
      "metadata": {
        "id": "82faa9b5"
      },
      "source": [
        "##### Timeframe on data"
      ]
    },
    {
      "cell_type": "code",
      "execution_count": null,
      "id": "940ab2ae",
      "metadata": {
        "id": "940ab2ae",
        "outputId": "b8137ccf-df95-414d-c90f-62022b6a4108",
        "colab": {
          "base_uri": "https://localhost:8080/"
        }
      },
      "outputs": [
        {
          "output_type": "stream",
          "name": "stdout",
          "text": [
            "Oldest date in dataset:  2010-12-01\n",
            "Mosr recent date in dataset:  2011-12-09\n"
          ]
        }
      ],
      "source": [
        "print('Oldest date in dataset: ', min(retail['Date']))\n",
        "print('Mosr recent date in dataset: ', max(retail['Date']))"
      ]
    },
    {
      "cell_type": "code",
      "execution_count": null,
      "id": "b3bafb86",
      "metadata": {
        "id": "b3bafb86"
      },
      "outputs": [],
      "source": [
        "# Drop the row from the year 2010\n",
        "index_names = retail[retail['Year'] == 2010].index\n",
        "retail.drop(index_names, inplace = True)\n",
        "retail.drop('Year', axis=1, inplace=True)"
      ]
    },
    {
      "cell_type": "markdown",
      "id": "3be7bea0",
      "metadata": {
        "id": "3be7bea0"
      },
      "source": [
        "##### 3.2.3 Sales Revenue"
      ]
    },
    {
      "cell_type": "code",
      "execution_count": null,
      "id": "50653c6c",
      "metadata": {
        "id": "50653c6c"
      },
      "outputs": [],
      "source": [
        "retail['Sales Revenue'] = retail['UnitPrice'] * retail['Quantity']\n",
        "# Check if Sales Revenue is negative\n",
        "index_names = retail[retail['Sales Revenue'] <= 0].index\n",
        "retail.drop(index_names, inplace = True)\n",
        "retail.drop_duplicates(inplace = True)"
      ]
    },
    {
      "cell_type": "markdown",
      "id": "0ce61f6e",
      "metadata": {
        "id": "0ce61f6e"
      },
      "source": [
        "##### 3.2.4 Country"
      ]
    },
    {
      "cell_type": "code",
      "execution_count": null,
      "id": "f7ee7f14",
      "metadata": {
        "id": "f7ee7f14",
        "outputId": "3527da7f-ac34-4be4-b777-7eb9a2065c3c",
        "colab": {
          "base_uri": "https://localhost:8080/"
        }
      },
      "outputs": [
        {
          "output_type": "stream",
          "name": "stdout",
          "text": [
            "['United Kingdom' 'Sweden' 'France' 'Australia' 'Germany' 'Spain'\n",
            " 'Portugal' 'EIRE' 'Israel' 'Cyprus' 'Belgium' 'Italy' 'Netherlands'\n",
            " 'Poland' 'Switzerland' 'Finland' 'Greece' 'Hong Kong' 'Singapore'\n",
            " 'Iceland' 'Channel Islands' 'Lebanon' 'Austria' 'Norway' 'Japan'\n",
            " 'United Arab Emirates' 'Denmark' 'Saudi Arabia' 'Czech Republic' 'Canada'\n",
            " 'Unspecified' 'Brazil' 'USA' 'European Community' 'Bahrain' 'Malta' 'RSA']\n"
          ]
        }
      ],
      "source": [
        "print(retail['Country'].unique())"
      ]
    },
    {
      "cell_type": "code",
      "execution_count": null,
      "id": "765db016",
      "metadata": {
        "id": "765db016"
      },
      "outputs": [],
      "source": [
        "# Drop rows with country == \"Unspecified\"\n",
        "retail.drop(retail[retail[\"Country\"] == \"Unspecified\"].index, inplace = True)"
      ]
    },
    {
      "cell_type": "markdown",
      "id": "ac99010a",
      "metadata": {
        "id": "ac99010a"
      },
      "source": [
        "##### 3.2.5 Quantity"
      ]
    },
    {
      "cell_type": "code",
      "execution_count": null,
      "id": "842cb9f4",
      "metadata": {
        "id": "842cb9f4"
      },
      "outputs": [],
      "source": [
        "# Quantity should be > 0\n",
        "index_names = retail[retail['Quantity'] <= 0].index\n",
        "retail.drop(index_names, inplace = True)"
      ]
    },
    {
      "cell_type": "markdown",
      "id": "f3a42d0f",
      "metadata": {
        "id": "f3a42d0f"
      },
      "source": [
        "##### 3.2.6 Description"
      ]
    },
    {
      "cell_type": "code",
      "execution_count": null,
      "id": "55fc2fc1",
      "metadata": {
        "id": "55fc2fc1",
        "outputId": "3e28b210-6b61-4b07-bc5a-a1c1db441c98",
        "colab": {
          "base_uri": "https://localhost:8080/"
        }
      },
      "outputs": [
        {
          "output_type": "stream",
          "name": "stdout",
          "text": [
            "['JUMBO BAG PINK POLKADOT' 'BLUE POLKADOT WRAP' 'RED RETROSPOT WRAP ' ...\n",
            " 'LETTER \"U\" BLING KEY RING' 'CREAM HANGING HEART T-LIGHT HOLDER'\n",
            " 'PAPER CRAFT , LITTLE BIRDIE']\n"
          ]
        }
      ],
      "source": [
        "print(retail['Description'].unique())"
      ]
    },
    {
      "cell_type": "code",
      "execution_count": null,
      "id": "58816396",
      "metadata": {
        "id": "58816396",
        "outputId": "8778557d-fef3-4343-8d0d-402a3a8e3f4f",
        "colab": {
          "base_uri": "https://localhost:8080/",
          "height": 469
        }
      },
      "outputs": [
        {
          "output_type": "execute_result",
          "data": {
            "text/plain": [
              "      InvoiceNo StockCode                Description  Quantity  \\\n",
              "42481    539993     22386    JUMBO BAG PINK POLKADOT        10   \n",
              "42482    539993     21499         BLUE POLKADOT WRAP        25   \n",
              "42483    539993     21498        RED RETROSPOT WRAP         25   \n",
              "42484    539993     22379   RECYCLING BAG RETROSPOT          5   \n",
              "42485    539993     20718  RED RETROSPOT SHOPPER BAG        10   \n",
              "\n",
              "              InvoiceDate  UnitPrice CustomerID         Country        Date  \\\n",
              "42481 2011-01-04 10:00:00       1.95      13313  United Kingdom  2011-01-04   \n",
              "42482 2011-01-04 10:00:00       0.42      13313  United Kingdom  2011-01-04   \n",
              "42483 2011-01-04 10:00:00       0.42      13313  United Kingdom  2011-01-04   \n",
              "42484 2011-01-04 10:00:00       2.10      13313  United Kingdom  2011-01-04   \n",
              "42485 2011-01-04 10:00:00       1.25      13313  United Kingdom  2011-01-04   \n",
              "\n",
              "           Time Hour Time of Day    Month  Week of the Year Day of Week  \\\n",
              "42481  10:00:00   10     Morning  January                 1     Tuesday   \n",
              "42482  10:00:00   10     Morning  January                 1     Tuesday   \n",
              "42483  10:00:00   10     Morning  January                 1     Tuesday   \n",
              "42484  10:00:00   10     Morning  January                 1     Tuesday   \n",
              "42485  10:00:00   10     Morning  January                 1     Tuesday   \n",
              "\n",
              "       Sales Revenue  \n",
              "42481           19.5  \n",
              "42482           10.5  \n",
              "42483           10.5  \n",
              "42484           10.5  \n",
              "42485           12.5  "
            ],
            "text/html": [
              "\n",
              "  <div id=\"df-24f7ddcc-23fb-4102-a4bd-d6bfab60c2a5\" class=\"colab-df-container\">\n",
              "    <div>\n",
              "<style scoped>\n",
              "    .dataframe tbody tr th:only-of-type {\n",
              "        vertical-align: middle;\n",
              "    }\n",
              "\n",
              "    .dataframe tbody tr th {\n",
              "        vertical-align: top;\n",
              "    }\n",
              "\n",
              "    .dataframe thead th {\n",
              "        text-align: right;\n",
              "    }\n",
              "</style>\n",
              "<table border=\"1\" class=\"dataframe\">\n",
              "  <thead>\n",
              "    <tr style=\"text-align: right;\">\n",
              "      <th></th>\n",
              "      <th>InvoiceNo</th>\n",
              "      <th>StockCode</th>\n",
              "      <th>Description</th>\n",
              "      <th>Quantity</th>\n",
              "      <th>InvoiceDate</th>\n",
              "      <th>UnitPrice</th>\n",
              "      <th>CustomerID</th>\n",
              "      <th>Country</th>\n",
              "      <th>Date</th>\n",
              "      <th>Time</th>\n",
              "      <th>Hour</th>\n",
              "      <th>Time of Day</th>\n",
              "      <th>Month</th>\n",
              "      <th>Week of the Year</th>\n",
              "      <th>Day of Week</th>\n",
              "      <th>Sales Revenue</th>\n",
              "    </tr>\n",
              "  </thead>\n",
              "  <tbody>\n",
              "    <tr>\n",
              "      <th>42481</th>\n",
              "      <td>539993</td>\n",
              "      <td>22386</td>\n",
              "      <td>JUMBO BAG PINK POLKADOT</td>\n",
              "      <td>10</td>\n",
              "      <td>2011-01-04 10:00:00</td>\n",
              "      <td>1.95</td>\n",
              "      <td>13313</td>\n",
              "      <td>United Kingdom</td>\n",
              "      <td>2011-01-04</td>\n",
              "      <td>10:00:00</td>\n",
              "      <td>10</td>\n",
              "      <td>Morning</td>\n",
              "      <td>January</td>\n",
              "      <td>1</td>\n",
              "      <td>Tuesday</td>\n",
              "      <td>19.5</td>\n",
              "    </tr>\n",
              "    <tr>\n",
              "      <th>42482</th>\n",
              "      <td>539993</td>\n",
              "      <td>21499</td>\n",
              "      <td>BLUE POLKADOT WRAP</td>\n",
              "      <td>25</td>\n",
              "      <td>2011-01-04 10:00:00</td>\n",
              "      <td>0.42</td>\n",
              "      <td>13313</td>\n",
              "      <td>United Kingdom</td>\n",
              "      <td>2011-01-04</td>\n",
              "      <td>10:00:00</td>\n",
              "      <td>10</td>\n",
              "      <td>Morning</td>\n",
              "      <td>January</td>\n",
              "      <td>1</td>\n",
              "      <td>Tuesday</td>\n",
              "      <td>10.5</td>\n",
              "    </tr>\n",
              "    <tr>\n",
              "      <th>42483</th>\n",
              "      <td>539993</td>\n",
              "      <td>21498</td>\n",
              "      <td>RED RETROSPOT WRAP</td>\n",
              "      <td>25</td>\n",
              "      <td>2011-01-04 10:00:00</td>\n",
              "      <td>0.42</td>\n",
              "      <td>13313</td>\n",
              "      <td>United Kingdom</td>\n",
              "      <td>2011-01-04</td>\n",
              "      <td>10:00:00</td>\n",
              "      <td>10</td>\n",
              "      <td>Morning</td>\n",
              "      <td>January</td>\n",
              "      <td>1</td>\n",
              "      <td>Tuesday</td>\n",
              "      <td>10.5</td>\n",
              "    </tr>\n",
              "    <tr>\n",
              "      <th>42484</th>\n",
              "      <td>539993</td>\n",
              "      <td>22379</td>\n",
              "      <td>RECYCLING BAG RETROSPOT</td>\n",
              "      <td>5</td>\n",
              "      <td>2011-01-04 10:00:00</td>\n",
              "      <td>2.10</td>\n",
              "      <td>13313</td>\n",
              "      <td>United Kingdom</td>\n",
              "      <td>2011-01-04</td>\n",
              "      <td>10:00:00</td>\n",
              "      <td>10</td>\n",
              "      <td>Morning</td>\n",
              "      <td>January</td>\n",
              "      <td>1</td>\n",
              "      <td>Tuesday</td>\n",
              "      <td>10.5</td>\n",
              "    </tr>\n",
              "    <tr>\n",
              "      <th>42485</th>\n",
              "      <td>539993</td>\n",
              "      <td>20718</td>\n",
              "      <td>RED RETROSPOT SHOPPER BAG</td>\n",
              "      <td>10</td>\n",
              "      <td>2011-01-04 10:00:00</td>\n",
              "      <td>1.25</td>\n",
              "      <td>13313</td>\n",
              "      <td>United Kingdom</td>\n",
              "      <td>2011-01-04</td>\n",
              "      <td>10:00:00</td>\n",
              "      <td>10</td>\n",
              "      <td>Morning</td>\n",
              "      <td>January</td>\n",
              "      <td>1</td>\n",
              "      <td>Tuesday</td>\n",
              "      <td>12.5</td>\n",
              "    </tr>\n",
              "  </tbody>\n",
              "</table>\n",
              "</div>\n",
              "    <div class=\"colab-df-buttons\">\n",
              "\n",
              "  <div class=\"colab-df-container\">\n",
              "    <button class=\"colab-df-convert\" onclick=\"convertToInteractive('df-24f7ddcc-23fb-4102-a4bd-d6bfab60c2a5')\"\n",
              "            title=\"Convert this dataframe to an interactive table.\"\n",
              "            style=\"display:none;\">\n",
              "\n",
              "  <svg xmlns=\"http://www.w3.org/2000/svg\" height=\"24px\" viewBox=\"0 -960 960 960\">\n",
              "    <path d=\"M120-120v-720h720v720H120Zm60-500h600v-160H180v160Zm220 220h160v-160H400v160Zm0 220h160v-160H400v160ZM180-400h160v-160H180v160Zm440 0h160v-160H620v160ZM180-180h160v-160H180v160Zm440 0h160v-160H620v160Z\"/>\n",
              "  </svg>\n",
              "    </button>\n",
              "\n",
              "  <style>\n",
              "    .colab-df-container {\n",
              "      display:flex;\n",
              "      gap: 12px;\n",
              "    }\n",
              "\n",
              "    .colab-df-convert {\n",
              "      background-color: #E8F0FE;\n",
              "      border: none;\n",
              "      border-radius: 50%;\n",
              "      cursor: pointer;\n",
              "      display: none;\n",
              "      fill: #1967D2;\n",
              "      height: 32px;\n",
              "      padding: 0 0 0 0;\n",
              "      width: 32px;\n",
              "    }\n",
              "\n",
              "    .colab-df-convert:hover {\n",
              "      background-color: #E2EBFA;\n",
              "      box-shadow: 0px 1px 2px rgba(60, 64, 67, 0.3), 0px 1px 3px 1px rgba(60, 64, 67, 0.15);\n",
              "      fill: #174EA6;\n",
              "    }\n",
              "\n",
              "    .colab-df-buttons div {\n",
              "      margin-bottom: 4px;\n",
              "    }\n",
              "\n",
              "    [theme=dark] .colab-df-convert {\n",
              "      background-color: #3B4455;\n",
              "      fill: #D2E3FC;\n",
              "    }\n",
              "\n",
              "    [theme=dark] .colab-df-convert:hover {\n",
              "      background-color: #434B5C;\n",
              "      box-shadow: 0px 1px 3px 1px rgba(0, 0, 0, 0.15);\n",
              "      filter: drop-shadow(0px 1px 2px rgba(0, 0, 0, 0.3));\n",
              "      fill: #FFFFFF;\n",
              "    }\n",
              "  </style>\n",
              "\n",
              "    <script>\n",
              "      const buttonEl =\n",
              "        document.querySelector('#df-24f7ddcc-23fb-4102-a4bd-d6bfab60c2a5 button.colab-df-convert');\n",
              "      buttonEl.style.display =\n",
              "        google.colab.kernel.accessAllowed ? 'block' : 'none';\n",
              "\n",
              "      async function convertToInteractive(key) {\n",
              "        const element = document.querySelector('#df-24f7ddcc-23fb-4102-a4bd-d6bfab60c2a5');\n",
              "        const dataTable =\n",
              "          await google.colab.kernel.invokeFunction('convertToInteractive',\n",
              "                                                    [key], {});\n",
              "        if (!dataTable) return;\n",
              "\n",
              "        const docLinkHtml = 'Like what you see? Visit the ' +\n",
              "          '<a target=\"_blank\" href=https://colab.research.google.com/notebooks/data_table.ipynb>data table notebook</a>'\n",
              "          + ' to learn more about interactive tables.';\n",
              "        element.innerHTML = '';\n",
              "        dataTable['output_type'] = 'display_data';\n",
              "        await google.colab.output.renderOutput(dataTable, element);\n",
              "        const docLink = document.createElement('div');\n",
              "        docLink.innerHTML = docLinkHtml;\n",
              "        element.appendChild(docLink);\n",
              "      }\n",
              "    </script>\n",
              "  </div>\n",
              "\n",
              "\n",
              "<div id=\"df-01339290-3079-432c-89c9-81d913be7359\">\n",
              "  <button class=\"colab-df-quickchart\" onclick=\"quickchart('df-01339290-3079-432c-89c9-81d913be7359')\"\n",
              "            title=\"Suggest charts\"\n",
              "            style=\"display:none;\">\n",
              "\n",
              "<svg xmlns=\"http://www.w3.org/2000/svg\" height=\"24px\"viewBox=\"0 0 24 24\"\n",
              "     width=\"24px\">\n",
              "    <g>\n",
              "        <path d=\"M19 3H5c-1.1 0-2 .9-2 2v14c0 1.1.9 2 2 2h14c1.1 0 2-.9 2-2V5c0-1.1-.9-2-2-2zM9 17H7v-7h2v7zm4 0h-2V7h2v10zm4 0h-2v-4h2v4z\"/>\n",
              "    </g>\n",
              "</svg>\n",
              "  </button>\n",
              "\n",
              "<style>\n",
              "  .colab-df-quickchart {\n",
              "      --bg-color: #E8F0FE;\n",
              "      --fill-color: #1967D2;\n",
              "      --hover-bg-color: #E2EBFA;\n",
              "      --hover-fill-color: #174EA6;\n",
              "      --disabled-fill-color: #AAA;\n",
              "      --disabled-bg-color: #DDD;\n",
              "  }\n",
              "\n",
              "  [theme=dark] .colab-df-quickchart {\n",
              "      --bg-color: #3B4455;\n",
              "      --fill-color: #D2E3FC;\n",
              "      --hover-bg-color: #434B5C;\n",
              "      --hover-fill-color: #FFFFFF;\n",
              "      --disabled-bg-color: #3B4455;\n",
              "      --disabled-fill-color: #666;\n",
              "  }\n",
              "\n",
              "  .colab-df-quickchart {\n",
              "    background-color: var(--bg-color);\n",
              "    border: none;\n",
              "    border-radius: 50%;\n",
              "    cursor: pointer;\n",
              "    display: none;\n",
              "    fill: var(--fill-color);\n",
              "    height: 32px;\n",
              "    padding: 0;\n",
              "    width: 32px;\n",
              "  }\n",
              "\n",
              "  .colab-df-quickchart:hover {\n",
              "    background-color: var(--hover-bg-color);\n",
              "    box-shadow: 0 1px 2px rgba(60, 64, 67, 0.3), 0 1px 3px 1px rgba(60, 64, 67, 0.15);\n",
              "    fill: var(--button-hover-fill-color);\n",
              "  }\n",
              "\n",
              "  .colab-df-quickchart-complete:disabled,\n",
              "  .colab-df-quickchart-complete:disabled:hover {\n",
              "    background-color: var(--disabled-bg-color);\n",
              "    fill: var(--disabled-fill-color);\n",
              "    box-shadow: none;\n",
              "  }\n",
              "\n",
              "  .colab-df-spinner {\n",
              "    border: 2px solid var(--fill-color);\n",
              "    border-color: transparent;\n",
              "    border-bottom-color: var(--fill-color);\n",
              "    animation:\n",
              "      spin 1s steps(1) infinite;\n",
              "  }\n",
              "\n",
              "  @keyframes spin {\n",
              "    0% {\n",
              "      border-color: transparent;\n",
              "      border-bottom-color: var(--fill-color);\n",
              "      border-left-color: var(--fill-color);\n",
              "    }\n",
              "    20% {\n",
              "      border-color: transparent;\n",
              "      border-left-color: var(--fill-color);\n",
              "      border-top-color: var(--fill-color);\n",
              "    }\n",
              "    30% {\n",
              "      border-color: transparent;\n",
              "      border-left-color: var(--fill-color);\n",
              "      border-top-color: var(--fill-color);\n",
              "      border-right-color: var(--fill-color);\n",
              "    }\n",
              "    40% {\n",
              "      border-color: transparent;\n",
              "      border-right-color: var(--fill-color);\n",
              "      border-top-color: var(--fill-color);\n",
              "    }\n",
              "    60% {\n",
              "      border-color: transparent;\n",
              "      border-right-color: var(--fill-color);\n",
              "    }\n",
              "    80% {\n",
              "      border-color: transparent;\n",
              "      border-right-color: var(--fill-color);\n",
              "      border-bottom-color: var(--fill-color);\n",
              "    }\n",
              "    90% {\n",
              "      border-color: transparent;\n",
              "      border-bottom-color: var(--fill-color);\n",
              "    }\n",
              "  }\n",
              "</style>\n",
              "\n",
              "  <script>\n",
              "    async function quickchart(key) {\n",
              "      const quickchartButtonEl =\n",
              "        document.querySelector('#' + key + ' button');\n",
              "      quickchartButtonEl.disabled = true;  // To prevent multiple clicks.\n",
              "      quickchartButtonEl.classList.add('colab-df-spinner');\n",
              "      try {\n",
              "        const charts = await google.colab.kernel.invokeFunction(\n",
              "            'suggestCharts', [key], {});\n",
              "      } catch (error) {\n",
              "        console.error('Error during call to suggestCharts:', error);\n",
              "      }\n",
              "      quickchartButtonEl.classList.remove('colab-df-spinner');\n",
              "      quickchartButtonEl.classList.add('colab-df-quickchart-complete');\n",
              "    }\n",
              "    (() => {\n",
              "      let quickchartButtonEl =\n",
              "        document.querySelector('#df-01339290-3079-432c-89c9-81d913be7359 button');\n",
              "      quickchartButtonEl.style.display =\n",
              "        google.colab.kernel.accessAllowed ? 'block' : 'none';\n",
              "    })();\n",
              "  </script>\n",
              "</div>\n",
              "\n",
              "    </div>\n",
              "  </div>\n"
            ],
            "application/vnd.google.colaboratory.intrinsic+json": {
              "type": "dataframe",
              "variable_name": "retail"
            }
          },
          "metadata": {},
          "execution_count": 19
        }
      ],
      "source": [
        "retail.head()"
      ]
    },
    {
      "cell_type": "code",
      "execution_count": null,
      "id": "599c4180",
      "metadata": {
        "id": "599c4180"
      },
      "outputs": [],
      "source": [
        "# Drop NaNs\n",
        "retail.dropna(subset=['Description'], inplace=True)"
      ]
    },
    {
      "cell_type": "code",
      "execution_count": null,
      "id": "2bef7d03",
      "metadata": {
        "id": "2bef7d03"
      },
      "outputs": [],
      "source": [
        "# Drop rows with description <= 8 words\n",
        "retail.drop(retail[retail['Description'].str.len() <= 8].index, inplace = True)\n",
        "retail['Description'] = retail['Description'].str.strip()\n",
        "retail.reset_index(drop=True, inplace=True)"
      ]
    },
    {
      "cell_type": "markdown",
      "id": "688d1fa7",
      "metadata": {
        "id": "688d1fa7"
      },
      "source": [
        "##### After cleaning and feature engineering:"
      ]
    },
    {
      "cell_type": "code",
      "execution_count": null,
      "id": "b24ac14e",
      "metadata": {
        "id": "b24ac14e",
        "outputId": "487ba4eb-6cc2-402b-fb3e-031c35efb149",
        "colab": {
          "base_uri": "https://localhost:8080/"
        }
      },
      "outputs": [
        {
          "output_type": "stream",
          "name": "stdout",
          "text": [
            "Number of observations after data cleaning:  481966\n",
            "Number of features after data cleaning:  16\n"
          ]
        }
      ],
      "source": [
        "print('Number of observations after data cleaning: ', retail.shape[0])\n",
        "print('Number of features after data cleaning: ', retail.shape[1])"
      ]
    },
    {
      "cell_type": "code",
      "execution_count": null,
      "id": "28da3cfe",
      "metadata": {
        "id": "28da3cfe",
        "outputId": "2d61b054-2476-4e23-e978-e6215748255b",
        "colab": {
          "base_uri": "https://localhost:8080/"
        }
      },
      "outputs": [
        {
          "output_type": "execute_result",
          "data": {
            "text/plain": [
              "Index(['InvoiceNo', 'StockCode', 'Description', 'Quantity', 'InvoiceDate',\n",
              "       'UnitPrice', 'CustomerID', 'Country', 'Date', 'Time', 'Hour',\n",
              "       'Time of Day', 'Month', 'Week of the Year', 'Day of Week',\n",
              "       'Sales Revenue'],\n",
              "      dtype='object')"
            ]
          },
          "metadata": {},
          "execution_count": 23
        }
      ],
      "source": [
        "retail.columns"
      ]
    },
    {
      "cell_type": "code",
      "execution_count": null,
      "id": "05d566f1",
      "metadata": {
        "id": "05d566f1",
        "outputId": "de233945-7fc0-4870-e237-5dcea7a60979",
        "colab": {
          "base_uri": "https://localhost:8080/"
        }
      },
      "outputs": [
        {
          "output_type": "stream",
          "name": "stdout",
          "text": [
            "<class 'pandas.core.frame.DataFrame'>\n",
            "RangeIndex: 481966 entries, 0 to 481965\n",
            "Data columns (total 16 columns):\n",
            " #   Column            Non-Null Count   Dtype         \n",
            "---  ------            --------------   -----         \n",
            " 0   InvoiceNo         481966 non-null  object        \n",
            " 1   StockCode         481966 non-null  object        \n",
            " 2   Description       481966 non-null  object        \n",
            " 3   Quantity          481966 non-null  int64         \n",
            " 4   InvoiceDate       481966 non-null  datetime64[ns]\n",
            " 5   UnitPrice         481966 non-null  float64       \n",
            " 6   CustomerID        481966 non-null  object        \n",
            " 7   Country           481966 non-null  object        \n",
            " 8   Date              481966 non-null  object        \n",
            " 9   Time              481966 non-null  object        \n",
            " 10  Hour              481966 non-null  object        \n",
            " 11  Time of Day       481966 non-null  category      \n",
            " 12  Month             481966 non-null  object        \n",
            " 13  Week of the Year  481966 non-null  UInt32        \n",
            " 14  Day of Week       481966 non-null  object        \n",
            " 15  Sales Revenue     481966 non-null  float64       \n",
            "dtypes: UInt32(1), category(1), datetime64[ns](1), float64(2), int64(1), object(10)\n",
            "memory usage: 54.2+ MB\n"
          ]
        }
      ],
      "source": [
        "# New dataframe\n",
        "retail.info()"
      ]
    },
    {
      "cell_type": "code",
      "execution_count": null,
      "id": "3b8be039",
      "metadata": {
        "id": "3b8be039"
      },
      "outputs": [],
      "source": [
        "# Save cleaned dataset for next steps\n",
        "retail.to_csv('CleanRetailData.csv')"
      ]
    }
  ],
  "metadata": {
    "kernelspec": {
      "display_name": "Python 3 (ipykernel)",
      "language": "python",
      "name": "python3"
    },
    "language_info": {
      "codemirror_mode": {
        "name": "ipython",
        "version": 3
      },
      "file_extension": ".py",
      "mimetype": "text/x-python",
      "name": "python",
      "nbconvert_exporter": "python",
      "pygments_lexer": "ipython3",
      "version": "3.8.8"
    },
    "colab": {
      "provenance": []
    }
  },
  "nbformat": 4,
  "nbformat_minor": 5
}